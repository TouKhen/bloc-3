{
 "cells": [
  {
   "cell_type": "code",
   "id": "initial_id",
   "metadata": {
    "collapsed": true,
    "jupyter": {
     "is_executing": true
    },
    "ExecuteTime": {
     "end_time": "2025-09-17T09:23:58.822895600Z",
     "start_time": "2025-09-17T09:23:26.534131Z"
    }
   },
   "source": [
    "from src.data import load_csv, basic_clean\n",
    "from src.features import build_features\n",
    "from src.viz import plot_corr_with_target\n",
    "\n",
    "df = load_csv('../data/telco-customer-churn.csv')\n",
    "df_clean = basic_clean(df)\n",
    "X = build_features(df_clean)\n",
    "plot_corr_with_target(X, target='Churn')"
   ],
   "outputs": [],
   "execution_count": null
  }
 ],
 "metadata": {
  "kernelspec": {
   "display_name": "Python 3",
   "language": "python",
   "name": "python3"
  },
  "language_info": {
   "codemirror_mode": {
    "name": "ipython",
    "version": 2
   },
   "file_extension": ".py",
   "mimetype": "text/x-python",
   "name": "python",
   "nbconvert_exporter": "python",
   "pygments_lexer": "ipython2",
   "version": "2.7.6"
  }
 },
 "nbformat": 4,
 "nbformat_minor": 5
}
